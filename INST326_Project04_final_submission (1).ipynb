{
 "cells": [
  {
   "cell_type": "markdown",
   "id": "ac8781e1",
   "metadata": {},
   "source": [
    "## INST326 Object Oriented Programming, Project 04"
   ]
  },
  {
   "cell_type": "markdown",
   "id": "b95ae195",
   "metadata": {},
   "source": [
    "Christina Cosentino"
   ]
  },
  {
   "cell_type": "markdown",
   "id": "3f5ea561",
   "metadata": {},
   "source": [
    "In the cell below, state whether you completed this work in your group or individually. If you completed this in a group, provide the group number and names of other group members."
   ]
  },
  {
   "cell_type": "markdown",
   "id": "86b53cd1",
   "metadata": {},
   "source": [
    "Christina Cosentino"
   ]
  },
  {
   "cell_type": "markdown",
   "id": "7f755ae8",
   "metadata": {},
   "source": [
    "Include a link to your github repository. Place your final code and any additional files (note files, etc) in that repository."
   ]
  },
  {
   "cell_type": "markdown",
   "id": "8c1265c7",
   "metadata": {},
   "source": [
    "https://github.com/ccosenti/Final"
   ]
  },
  {
   "cell_type": "markdown",
   "id": "d47e268a",
   "metadata": {},
   "source": [
    "#### Project 04 Instructions"
   ]
  },
  {
   "cell_type": "markdown",
   "id": "c454cd45",
   "metadata": {},
   "source": [
    "With project 04 you will take the basic note app that we have developed so far in projects 02 and 03, and really make it your own. Some of the improvements you might consider (these are ideas, not requirements):\n",
    "\n",
    "\n",
    "1. Improving / simplifying / combining the note and snippet formats\n",
    "2. Improving / simplifying the structure of the note program to make it cleaner and more object oriented\n",
    "3. Create your own modules (remember that the modules will need to be turned in too)\n",
    "4. Improve the overall visual display of the main window and notes:\n",
    "\n",
    "    1. Make the window larger\n",
    "    2. Add scroll bars and other widgets to the notes display\n",
    "    3. Load a default notebook when you start the program\n",
    "    4. Improve the way the notes are displayed in the main window\n",
    "    5. Improve the visual aesthetics of the display\n",
    "\n",
    "5. Improve the pop up display of notes\n",
    "6. Add snippet copy functionality so that snippets may be copied and pasted into programs\n",
    "7. Add search functionality for your notes\n",
    "8. Create a note share repository on github to share notes with other groups\n",
    "9. Improve the save and read notebooks functionality to accomodate notebooks in different formats (txt, json, csv, xml)\n",
    "10. create a utility program to convert notes from one format to another\n",
    "11. Create a notes database in sqlite and add functionality to your program to read, write, and search notes in the database.\n",
    "\n",
    "For project 04 you are encouraged to continue working and collaborating in your groups. However, if your group dynamics are not good you may complete project 04 individually without penalty.\n",
    "\n",
    "Whether you continue working as a group or as an individual, each student must submit (upload) their final project on ELMS.\n",
    "\n",
    "For this project, each student must make or contribute to at least three improvements to the final note program as described above. Each student will also be responsible for at least ten (10) real notes and/or snippets, including those submitted under projects 02, 03, and an the discussions. \n",
    "\n",
    "For the base note app code you may start with either your group's code from project 03, or the project 03 solution provided on ELMS."
   ]
  },
  {
   "cell_type": "markdown",
   "id": "7527db6c",
   "metadata": {},
   "source": [
    "#### Instructions for this notebook"
   ]
  },
  {
   "cell_type": "code",
   "execution_count": null,
   "id": "d5f6a295",
   "metadata": {
    "vscode": {
     "languageId": "plaintext"
    }
   },
   "outputs": [],
   "source": [
    "As the examples above suggest, each improvement should be non-trivial, and should make the program better in some way. At the same time, rewriting a section of code in a way that makes it more object oriented, or more resilient, is an acceptable improvement if you explain it well. I am looking for improvements that demonstrate your understanding of object oriented programming. Coding wizardry is not necessary. Choose improvements that are interesting and useful to you. If you do that, you are more likely to spend quality time on the project. That will be apparent in your work.\n",
    "\n",
    "In the cells below, identify and discuss the three improvements you made to the notes program. You should state:\n",
    "1. what the improvement is in one sentence\n",
    "2. describe the improvement in three sentences or less (if needed)\n",
    "3. how it makes the program better\n",
    "4. how it uses or relates to the principles of object oriented programming"
   ]
  },
  {
   "cell_type": "markdown",
   "id": "7ab7fc2a",
   "metadata": {},
   "source": [
    "#### Improvement # 1"
   ]
  },
  {
   "cell_type": "markdown",
   "id": "6fbbc5c6",
   "metadata": {},
   "source": [
    "When a user wants to load saved notes, the load button will display the entire notebook saved with each page separated by the title, providing an easy way to read one's notes. This improvement enhances the usability and accessibility of the program. It relates to object-oriented programming (OOP) by enhancing the user interface, a common aspect of OOP design where objects are designed to interact seamlessly with users and uses code to read different types of files and adding them to the window"
   ]
  },
  {
   "cell_type": "markdown",
   "id": "44de9eff",
   "metadata": {},
   "source": [
    "#### Improvement # 2"
   ]
  },
  {
   "cell_type": "markdown",
   "id": "8d5def9f",
   "metadata": {},
   "source": [
    "I wanted to incorperate all file types such as json, csv, txt, and xml to expand what people can do and save them to a notebook. This improvement allows anyone to have the choice of what kind of file would best fits their notes. It makes the program more flexible. It relates to the princples of object oriented programming because creating a method that is automated to read various files types allow easier notebook creation. "
   ]
  },
  {
   "cell_type": "markdown",
   "id": "40efd88b",
   "metadata": {},
   "source": [
    "#### Improvement # 3"
   ]
  },
  {
   "cell_type": "markdown",
   "id": "3e7e204a",
   "metadata": {},
   "source": [
    "I also fixed the visuals of the notebook, color coding the main window from the pop up window that displays the entire notebook.I also made the window larger and made everything sorted so users can easily navigate it. It relates to object oriented programming gui features as improving the gui allows easier navigation for first times users"
   ]
  },
  {
   "cell_type": "markdown",
   "id": "6e7b5762",
   "metadata": {},
   "source": [
    "#### Print your notes"
   ]
  },
  {
   "cell_type": "markdown",
   "id": "cb20928d",
   "metadata": {},
   "source": [
    "In the cell below, print or copy your ten notes."
   ]
  },
  {
   "cell_type": "code",
   "execution_count": null,
   "id": "03c3eb3c",
   "metadata": {},
   "outputs": [],
   "source": [
    "# add and run code here to print your ten notes\n",
    "# or change this to a markdown cell and paste your ten notes here.\\\n",
    "\n",
    "                \"title\": \"Python's Zip Function\",\n",
    "                \"text\": \"The zip() function in Python is used to combine multiple iterables (like lists) element-wise into a single iterable.\",\n",
    "                \"tags\": [\"#Python\", \"#zip()\"]\n",
    "            },\n",
    "            {\n",
    "                \"title\": \"Using Classes and Inheritance\",\n",
    "                \"text\": \"Classes are the blueprints for creating objects and defining behaviors. Inheritance allows us to create another class that can inherit the methods from another class.\",\n",
    "                \"tags\": [\"#OOP\", \"#Classes\", \"#Inheritance\"]\n",
    "            },\n",
    "            {\n",
    "                \"title\": \"Using Polymorphism in Python\",\n",
    "                \"text\": \"Polymorphism is a pillar of abstraction. It allows programmers to use the same function or behavior to be carried on different objects that have a similarity.\",\n",
    "                \"tags\": [\"#OOP\", \"#Polymorphism\", \"#Abstraction\"]\n",
    "            },\n",
    "            {\n",
    "                \"title\": \"Python 'with' Statement\",\n",
    "                \"text\": \"Python's context managers, implemented using the with statement, provide a convenient way to manage resources and ensure proper cleanup.\",\n",
    "                \"tags\": [\"#Python\", \"#ContextManagers\", \"#withStatement\"]\n",
    "            },\n",
    "            {\n",
    "                \"title\": \"Series and DataFrame\",\n",
    "                \"text\": \"Pandas has two main data structures, 'Series' and 'DataFrame.' Series is a 1D array, and DataFrame is a 2D array, and has a named + ordered column structure.\",\n",
    "                \"tags\": [\"#Pandas\", \"#DataFrame\", \"#Series\"]\n",
    "            },\n",
    "            {\n",
    "                \"title\": \"Selecting Index Values\",\n",
    "                \"text\": \"The 'loc' operator can be used to select index values, such as obj.loc[['val1', 'val2']]. The 'loc' operator works only with labels, but 'iloc' can work with integers.\",\n",
    "                \"tags\": [\"#index\", \"#loc\", \"#iloc\"]\n",
    "            },\n",
    "            {\n",
    "                \"title\": \"Creating DataFrame Using Pandas\",\n",
    "                \"text\": \"import pandas as pd\\n data = {'Jackson': [1, 1, 3, 4, 1], 'James': [2, 2, 1, 3, 4], 'Johnny': [3, 3, 3, 3, 1]}\\n df = pd.DataFrame(data)\\n df.head()\",\n",
    "                \"tags\": [\"#DataFrame\", \"#Pandas\", \"#Data\"]\n",
    "            },\n",
    "            {\n",
    "                \"title\": \"Formatting Strings in Python\",\n",
    "                \"text\": \"The format() is probably the most common method used to format strings in Python.\",\n",
    "                \"tags\": [\"#PythonString\", \"#Formatting\", \"#OOP\", \"#CodeOrganizing\"]\n",
    "            },\n",
    "            {\n",
    "                \"title\": \"Github in Python\",\n",
    "                \"text\": \"Github is the perfect tool to use for all your projects in Python. You can easily share your work, collaborate with others, and track changes.\",\n",
    "                \"tags\": [\"#Github\", \"#OOP\", \"#Collaborating\", \"#Python\"]\n",
    "            },\n",
    "            {\n",
    "                \"title\": \"Adding date and time\",\n",
    "                \"text\": \"import datetime\\n current_datetime = datetime.datetime.now()\",\n",
    "                \"tags\": [\"#date\", \"#datetime\", \"#time\"]\n",
    "            }"
   ]
  },
  {
   "cell_type": "markdown",
   "id": "14d634f0",
   "metadata": {},
   "source": [
    "#### Insert your code below"
   ]
  },
  {
   "cell_type": "markdown",
   "id": "29666081",
   "metadata": {},
   "source": [
    "In the cell below, insert your complete, modified code for your final note app. Include comments in your code that clearly identify each of your three improvements. Include additional comments as necessary.\n",
    "If your code requires an external note file, include the code to load that file from your github repository. If you load a file on the local drive, include code to delete that file when the program ends."
   ]
  },
  {
   "cell_type": "code",
   "execution_count": null,
   "id": "659fcd3f",
   "metadata": {},
   "outputs": [],
   "source": [
    "# insert your complete, modified code here. Use additional cells if needed.\n",
    "from datetime import datetime\n",
    "import tkinter as tk\n",
    "from tkinter import filedialog\n",
    "import json\n",
    "import csv\n",
    "import xml.etree.ElementTree as ET\n",
    "\n",
    "class MakeNote():\n",
    "    #intialize variables\n",
    "    def __init__(self, note_dict):\n",
    "        self.title = note_dict[\"title\"]\n",
    "        self.text = note_dict[\"text\"]\n",
    "        self.tags = note_dict[\"tags\"]\n",
    "        self.created_at = datetime.now()\n",
    "\n",
    "class MainWindow(tk.Tk):\n",
    "    def __init__(self):\n",
    "        #intialize size and window\n",
    "        super().__init__()\n",
    "        self.geometry(\"800x800\")\n",
    "        self.title('Notebook')\n",
    "        self.notebook = []\n",
    "        self.notes = []\n",
    "        #10 python notes regarding OOP\n",
    "        self.default_notes = [\n",
    "            {\n",
    "                \"title\": \"Python's Zip Function\",\n",
    "                \"text\": \"The zip() function in Python is used to combine multiple iterables (like lists) element-wise into a single iterable.\",\n",
    "                \"tags\": [\"#Python\", \"#zip()\"]\n",
    "            },\n",
    "            {\n",
    "                \"title\": \"Using Classes and Inheritance\",\n",
    "                \"text\": \"Classes are the blueprints for creating objects and defining behaviors. Inheritance allows us to create another class that can inherit the methods from another class.\",\n",
    "                \"tags\": [\"#OOP\", \"#Classes\", \"#Inheritance\"]\n",
    "            },\n",
    "            {\n",
    "                \"title\": \"Using Polymorphism in Python\",\n",
    "                \"text\": \"Polymorphism is a pillar of abstraction. It allows programmers to use the same function or behavior to be carried on different objects that have a similarity.\",\n",
    "                \"tags\": [\"#OOP\", \"#Polymorphism\", \"#Abstraction\"]\n",
    "            },\n",
    "            {\n",
    "                \"title\": \"Python 'with' Statement\",\n",
    "                \"text\": \"Python's context managers, implemented using the with statement, provide a convenient way to manage resources and ensure proper cleanup.\",\n",
    "                \"tags\": [\"#Python\", \"#ContextManagers\", \"#withStatement\"]\n",
    "            },\n",
    "            {\n",
    "                \"title\": \"Series and DataFrame\",\n",
    "                \"text\": \"Pandas has two main data structures, 'Series' and 'DataFrame.' Series is a 1D array, and DataFrame is a 2D array, and has a named + ordered column structure.\",\n",
    "                \"tags\": [\"#Pandas\", \"#DataFrame\", \"#Series\"]\n",
    "            },\n",
    "            {\n",
    "                \"title\": \"Selecting Index Values\",\n",
    "                \"text\": \"The 'loc' operator can be used to select index values, such as obj.loc[['val1', 'val2']]. The 'loc' operator works only with labels, but 'iloc' can work with integers.\",\n",
    "                \"tags\": [\"#index\", \"#loc\", \"#iloc\"]\n",
    "            },\n",
    "            {\n",
    "                \"title\": \"Creating DataFrame Using Pandas\",\n",
    "                \"text\": \"import pandas as pd\\n data = {'Jackson': [1, 1, 3, 4, 1], 'James': [2, 2, 1, 3, 4], 'Johnny': [3, 3, 3, 3, 1]}\\n df = pd.DataFrame(data)\\n df.head()\",\n",
    "                \"tags\": [\"#DataFrame\", \"#Pandas\", \"#Data\"]\n",
    "            },\n",
    "            {\n",
    "                \"title\": \"Formatting Strings in Python\",\n",
    "                \"text\": \"The format() is probably the most common method used to format strings in Python.\",\n",
    "                \"tags\": [\"#PythonString\", \"#Formatting\", \"#OOP\", \"#CodeOrganizing\"]\n",
    "            },\n",
    "            {\n",
    "                \"title\": \"Github in Python\",\n",
    "                \"text\": \"Github is the perfect tool to use for all your projects in Python. You can easily share your work, collaborate with others, and track changes.\",\n",
    "                \"tags\": [\"#Github\", \"#OOP\", \"#Collaborating\", \"#Python\"]\n",
    "            },\n",
    "            {\n",
    "                \"title\": \"Adding date and time\",\n",
    "                \"text\": \"import datetime\\n current_datetime = datetime.datetime.now()\",\n",
    "                \"tags\": [\"#date\", \"#datetime\", \"#time\"]\n",
    "            }\n",
    "        ]\n",
    "        self.notes.extend(self.default_notes)\n",
    "\n",
    "        # add window attributes\n",
    "        self.note_display = tk.Label(self, text=\"\", justify=tk.LEFT, bg='light blue')\n",
    "        self.note_display.pack(fill=tk.BOTH, expand=1)\n",
    "\n",
    "        # new note button\n",
    "        self.new_note_button = tk.Button(self, text=\"New Note\", command=self.new_note)\n",
    "        self.new_note_button.pack()\n",
    "\n",
    "        # load note button\n",
    "        self.load_notes_button = tk.Button(self, text=\"Load Notes\", command=self.load_notes)\n",
    "        self.load_notes_button.pack()\n",
    "\n",
    "        # save note button\n",
    "        self.save_notes_button = tk.Button(self, text=\"Save Notes\", command=self.save_notes)\n",
    "        self.save_notes_button.pack()\n",
    "\n",
    "    def new_note(self):\n",
    "        #creates new notes\n",
    "        note_window = NoteForm(self, self.notebook, self.notes)\n",
    "        self.update_note_display()\n",
    "\n",
    "    def update_note_display(self):\n",
    "        # finds the index of the last note that was displayed\n",
    "        start_index = len(self.note_display.winfo_children())\n",
    "            #updates the note count and the button title\n",
    "        for i, note in enumerate(self.notes[start_index:]):\n",
    "            button = tk.Button(self.note_display, text=f\"Note {start_index + i + 1}\", command=lambda n=note: self.open_note(n))\n",
    "            button.pack(pady=5, padx=5)\n",
    "    \n",
    "    def open_note(self, note):\n",
    "        #creates a window with the note's title and tags\n",
    "        top = tk.Toplevel()\n",
    "        top.title(note[\"title\"])\n",
    "        top.geometry(\"600x600\")\n",
    "        note_text =tk.Label(top, text=f\"{note['text']}\\n\\nTags: {', '.join(note['tags'])}\")\n",
    "        note_text.pack()\n",
    "\n",
    "    def load_notes(self):\n",
    "        #loads notes of different types reading each of them and putting them into a window \n",
    "        filepath = filedialog.askopenfilename(defaultextension=\".txt\", filetypes=[(\"Text files\", \"*.txt\"), (\"JSON files\", \"*.json\"), (\"CSV files\", \"*.csv\"), (\"XML files\", \"*.xml\")])\n",
    "        if filepath:\n",
    "            if filepath.endswith('.json'):\n",
    "                with open(filepath, 'r') as file:\n",
    "                    self.notes = json.load(file)\n",
    "            elif filepath.endswith('.csv'):\n",
    "                with open(filepath, 'r') as file:\n",
    "                    reader = csv.DictReader(file)\n",
    "                    self.notes = [dict(row) for row in reader]\n",
    "            elif filepath.endswith('.xml'):\n",
    "                self.notes = []\n",
    "                tree = ET.parse(filepath)\n",
    "                root = tree.getroot()\n",
    "                for note_element in root.findall('note'):\n",
    "                    title = note_element.find('title').text\n",
    "                    text = note_element.find('text').text\n",
    "                    tags = note_element.find('tags').text.split(',')\n",
    "                    self.notes.append({'title': title, 'text': text, 'tags': tags})\n",
    "            else:  # Default to txt\n",
    "                with open(filepath, 'r') as file:\n",
    "                    lines = file.readlines()\n",
    "                    self.notes = []\n",
    "                    for line in lines:\n",
    "                        parts = line.split('|')\n",
    "                        self.notes.append({\"title\": parts[0], \"text\": parts[1], \"tags\": parts[2].split(',')})\n",
    "\n",
    "            # create a new window for displaying loaded notes\n",
    "            top = tk.Toplevel()\n",
    "            top.title(\"Loaded Notes\")\n",
    "            top.geometry(\"800x800\")\n",
    "            top.configure(bg='light pink')\n",
    "\n",
    "            # Display the loaded notes\n",
    "            note_display = tk.Label(top, text=\"\", justify=tk.LEFT, bg='light pink')\n",
    "            note_display.pack(fill=tk.BOTH, expand=1)\n",
    "\n",
    "            for i, note in enumerate(self.notes):\n",
    "                note_text = f\"{note['text']}\\n\\nTags: {', '.join(note['tags'])}\"\n",
    "                label = tk.Label(note_display, text=note_text)\n",
    "                label.pack()\n",
    "\n",
    "            print(\"notes opened\")\n",
    "\n",
    "    def save_notes(self):\n",
    "        filepath = filedialog.asksaveasfilename(defaultextension=\".txt\", filetypes=[(\"Text files\", \"*.txt\"), (\"JSON files\", \"*.json\"), (\"CSV files\", \"*.csv\"), (\"XML files\", \"*.xml\")])\n",
    "        if filepath:\n",
    "            if filepath.endswith('.json'):\n",
    "                with open(filepath, 'w') as file:\n",
    "                    json.dump(self.notes, file, indent=4)\n",
    "            elif filepath.endswith('.csv'):\n",
    "                                with open(filepath, 'w', newline='') as file:\n",
    "                                    writer = csv.DictWriter(file, fieldnames=['title', 'text', 'tags'])\n",
    "                                    writer.writeheader()\n",
    "                                    writer.writerows(self.notes)\n",
    "            elif filepath.endswith('.xml'):\n",
    "                root = ET.Element('notes')\n",
    "                for note in self.notes:\n",
    "                    note_element = ET.SubElement(root, 'note')\n",
    "                    title_element = ET.SubElement(note_element, 'title')\n",
    "                    title_element.text = note['title']\n",
    "                    text_element = ET.SubElement(note_element, 'text')\n",
    "                    text_element.text = note['text']\n",
    "                    tags_element = ET.SubElement(note_element, 'tags')\n",
    "                    tags_element.text = ','.join(note['tags'])\n",
    "                tree = ET.ElementTree(root)\n",
    "                tree.write(filepath)\n",
    "            else:  # Default to txt\n",
    "                with open(filepath, 'w') as file:\n",
    "                    for note in self.notes:\n",
    "                        file.write(f\"{note['title']}|{note['text']}|{','.join(note['tags'])}\\n\")\n",
    "            print(\"note loaded \")\n",
    "\n",
    "class NoteForm(tk.Toplevel):\n",
    "    def __init__(self, master, notebook, notes):\n",
    "        super().__init__(master)\n",
    "        #initalizes notes and gui\n",
    "        self.geometry(\"400x300\")\n",
    "        self.title(\"New Note\")\n",
    "        self.notebook = notebook\n",
    "        self.notes = notes\n",
    "        #noteform gui labels and buttons \n",
    "        self.note_title_label = tk.Label(self, text=\"Title:\")\n",
    "        self.note_title_label.pack()\n",
    "        self.note_title_entry = tk.Entry(self)\n",
    "        self.note_title_entry.pack()\n",
    "\n",
    "        self.note_text_label = tk.Label(self, text=\"Text:\")\n",
    "        self.note_text_label.pack()\n",
    "        self.note_text_entry = tk.Text(self, height=10, width=30)\n",
    "        self.note_text_entry.pack()\n",
    "\n",
    "        self.note_tags_label = tk.Label(self, text=\"Tags (separated by commas):\")\n",
    "        self.note_tags_label.pack()\n",
    "        self.note_tags_entry = tk.Entry(self)\n",
    "        self.note_tags_entry.pack()\n",
    "\n",
    "        self.submit_button = tk.Button(self, text=\"Submit\", command=self.submit)\n",
    "        self.submit_button.pack()\n",
    "\n",
    "    def submit(self):\n",
    "        #adds the time stamp of when the note was created.\n",
    "        title = self.note_title_entry.get()\n",
    "        text = self.note_text_entry.get(\"1.0\", tk.END).strip()\n",
    "        tags = [tag.strip() for tag in self.note_tags_entry.get().split(\",\")]\n",
    "\n",
    "        now = datetime.now().strftime(\"%Y-%m-%d %H:%M:%S\")\n",
    "        text += f\"\\n\\nCreated at: {now}\"\n",
    "\n",
    "        self.notes.append({\"title\": title, \"text\": text, \"tags\": tags})\n",
    "        self.master.update_note_display()\n",
    "        self.destroy()\n",
    "\n",
    "if __name__ == '__main__':\n",
    "    main_window = MainWindow()\n",
    "    main_window.mainloop()"
   ]
  }
 ],
 "metadata": {
  "kernelspec": {
   "display_name": "Python 3 (ipykernel)",
   "language": "python",
   "name": "python3"
  },
  "language_info": {
   "codemirror_mode": {
    "name": "ipython",
    "version": 3
   },
   "file_extension": ".py",
   "mimetype": "text/x-python",
   "name": "python",
   "nbconvert_exporter": "python",
   "pygments_lexer": "ipython3",
   "version": "3.9.12"
  }
 },
 "nbformat": 4,
 "nbformat_minor": 5
}
